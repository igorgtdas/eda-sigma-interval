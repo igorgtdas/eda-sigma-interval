{
 "cells": [
  {
   "cell_type": "code",
   "execution_count": 1,
   "id": "fb4b87c7-d68a-4d81-b259-6cc04d7d0c28",
   "metadata": {},
   "outputs": [
    {
     "ename": "NameError",
     "evalue": "name '_DISPLAY' is not defined",
     "output_type": "error",
     "traceback": [
      "\u001b[1;31m---------------------------------------------------------------------------\u001b[0m",
      "\u001b[1;31mNameError\u001b[0m                                 Traceback (most recent call last)",
      "Cell \u001b[1;32mIn[1], line 15\u001b[0m\n\u001b[0;32m     12\u001b[0m path \u001b[38;5;241m=\u001b[39m \u001b[38;5;124m'\u001b[39m\u001b[38;5;124mC:/Users/igtsilva/OneDrive - GOL Linhas Aéreas S A/Área de Trabalho/Igor - Reliability/Local_data_bases/info_acft.xlsx\u001b[39m\u001b[38;5;124m'\u001b[39m\n\u001b[0;32m     13\u001b[0m df \u001b[38;5;241m=\u001b[39m pd\u001b[38;5;241m.\u001b[39mread_excel(path)\n\u001b[1;32m---> 15\u001b[0m run_eda(df, dataset_name\u001b[38;5;241m=\u001b[39mos\u001b[38;5;241m.\u001b[39mpath\u001b[38;5;241m.\u001b[39mbasename(path))\n",
      "File \u001b[1;32m~\\OneDrive - GOL Linhas Aéreas S A\\Área de Trabalho\\Igor - Reliability\\9. Módulos_python\\contrucao_modulo_eda\\src\\eda_igor\\eda.py:105\u001b[0m, in \u001b[0;36mrun_eda\u001b[1;34m(df, dataset_name, alpha, max_numeric_plots, top_k_cat, save_summary_path)\u001b[0m\n\u001b[0;32m    103\u001b[0m dtypes \u001b[38;5;241m=\u001b[39m df\u001b[38;5;241m.\u001b[39mdtypes\u001b[38;5;241m.\u001b[39mastype(\u001b[38;5;28mstr\u001b[39m)\n\u001b[0;32m    104\u001b[0m info_df \u001b[38;5;241m=\u001b[39m pd\u001b[38;5;241m.\u001b[39mDataFrame({\u001b[38;5;124m\"\u001b[39m\u001b[38;5;124mcolumn\u001b[39m\u001b[38;5;124m\"\u001b[39m: df\u001b[38;5;241m.\u001b[39mcolumns, \u001b[38;5;124m\"\u001b[39m\u001b[38;5;124mdtype\u001b[39m\u001b[38;5;124m\"\u001b[39m: dtypes\u001b[38;5;241m.\u001b[39mvalues})\n\u001b[1;32m--> 105\u001b[0m \u001b[38;5;28;01mif\u001b[39;00m _DISPLAY:\n\u001b[0;32m    106\u001b[0m     display_dataframe_to_user(\u001b[38;5;124m\"\u001b[39m\u001b[38;5;124mTipos de dados (dtypes)\u001b[39m\u001b[38;5;124m\"\u001b[39m, info_df)\n\u001b[0;32m    107\u001b[0m \u001b[38;5;28;01melse\u001b[39;00m:\n",
      "\u001b[1;31mNameError\u001b[0m: name '_DISPLAY' is not defined"
     ]
    }
   ],
   "source": [
    "import os\n",
    "import pandas as pd\n",
    "from eda_igor import assess_normality, outlier_summary, sigma_intervals, run_eda\n",
    "\n",
    "# --------------------- Exemplo de uso -----------------------\n",
    "if __name__ == \"__main__\":\n",
    "    # 1) Rodar em um CSV local:\n",
    "    # df = pd.read_csv(\"seu_arquivo.csv\")\n",
    "    # run_eda(df, dataset_name=\"seu_arquivo.csv\")\n",
    "\n",
    "    # 2) Ou detectar automaticamente o maior CSV do diretório atual:\n",
    "    path = 'YOUR_PATH + FILES_NAME'\n",
    "    df = pd.read_excel(path)\n",
    "    \n",
    "    run_eda(df, dataset_name=os.path.basename(path))"
   ]
  }
 ],
 "metadata": {
  "kernelspec": {
   "display_name": "Python 3 (ipykernel)",
   "language": "python",
   "name": "python3"
  },
  "language_info": {
   "codemirror_mode": {
    "name": "ipython",
    "version": 3
   },
   "file_extension": ".py",
   "mimetype": "text/x-python",
   "name": "python",
   "nbconvert_exporter": "python",
   "pygments_lexer": "ipython3",
   "version": "3.13.5"
  }
 },
 "nbformat": 4,
 "nbformat_minor": 5
}
